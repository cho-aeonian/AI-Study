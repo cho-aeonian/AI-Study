{
 "cells": [
  {
   "cell_type": "code",
   "execution_count": null,
   "id": "3190c04c",
   "metadata": {},
   "outputs": [],
   "source": [
    "import cv2\n",
    "import matplotlib.pyplot as plt\n",
    "from google.colab.patches import cv2_imshow\n",
    "import numpy as np"
   ]
  },
  {
   "cell_type": "code",
   "execution_count": null,
   "id": "7e6cb1ae",
   "metadata": {},
   "outputs": [],
   "source": [
    "from google.colab import drive\n",
    "drive.mount('/content/drive')"
   ]
  },
  {
   "cell_type": "code",
   "execution_count": null,
   "id": "d059aabc",
   "metadata": {},
   "outputs": [],
   "source": [
    "image = cv2.imread('/content/drive/MyDrive/Computer Vision Masterclass/Images/megan.jpg')"
   ]
  },
  {
   "cell_type": "code",
   "execution_count": null,
   "id": "293983ae",
   "metadata": {},
   "outputs": [],
   "source": [
    "image.shape, image.shape[0] * image.shape[1] * 3"
   ]
  },
  {
   "cell_type": "code",
   "execution_count": null,
   "id": "885ffbbc",
   "metadata": {},
   "outputs": [],
   "source": [
    "image_blob = cv2.dnn.blobFromImage(image = image, scalefactor = 1.0 / 255, size = (image.shape[1], image.shape[0]))"
   ]
  },
  {
   "cell_type": "code",
   "execution_count": null,
   "id": "b2f135b0",
   "metadata": {},
   "outputs": [],
   "source": [
    "type(image_blob), image_blob.shape #batch"
   ]
  },
  {
   "cell_type": "code",
   "execution_count": null,
   "id": "f861e3cb",
   "metadata": {},
   "outputs": [],
   "source": [
    "network = cv2.dnn.readNetFromCaffe('/content/drive/MyDrive/Computer Vision Masterclass/Weights/pose_deploy_linevec_faster_4_stages.prototxt',\n",
    "                                   '/content/drive/MyDrive/Computer Vision Masterclass/Weights/pose_iter_160000.caffemodel')"
   ]
  },
  {
   "cell_type": "code",
   "execution_count": null,
   "id": "4f7e2465",
   "metadata": {},
   "outputs": [],
   "source": [
    "network.getLayerNames()"
   ]
  },
  {
   "cell_type": "code",
   "execution_count": null,
   "id": "7ea6dd2d",
   "metadata": {},
   "outputs": [],
   "source": [
    "len(network.getLayerNames())"
   ]
  },
  {
   "cell_type": "code",
   "execution_count": null,
   "id": "58856fde",
   "metadata": {},
   "outputs": [],
   "source": [
    "network.setInput(image_blob)\n",
    "output = network.forward()"
   ]
  },
  {
   "cell_type": "code",
   "execution_count": null,
   "id": "8852e2ce",
   "metadata": {},
   "outputs": [],
   "source": [
    "output.shape"
   ]
  },
  {
   "cell_type": "code",
   "execution_count": null,
   "id": "ce376a17",
   "metadata": {},
   "outputs": [],
   "source": [
    "position_width"
   ]
  },
  {
   "cell_type": "code",
   "execution_count": null,
   "id": "ae0a9787",
   "metadata": {},
   "outputs": [],
   "source": [
    "(image.shape[1])"
   ]
  },
  {
   "cell_type": "code",
   "execution_count": null,
   "id": "6eb27d11",
   "metadata": {},
   "outputs": [],
   "source": [
    "num_points = 15\n",
    "points = []\n",
    "threshold = 0.1\n",
    "\n",
    "for i in range(num_points):\n",
    "  #print(i)\n",
    "  confidence_map = output[0, i, :, :]\n",
    "  #print(confidence_map)\n",
    "  #print(len(confidence_map))\n",
    "  _, confidence, _, point = cv2.minMaxLoc(confidence_map)\n",
    "  #print(confidence)\n",
    "  #print(point)\n",
    "\n",
    "  x = int((image.shape[1] * point[0]) / position_width)\n",
    "  y = int((image.shape[0] * point[1]) / position_height)\n",
    "  #print(x,y)\n",
    "\n",
    "  if confidence > threshold:\n",
    "    cv2.circle(image, (x,y), 5, (0,255,0), thickness = -1)\n",
    "    cv2.putText(image, '{}'.format(i), (x,y), cv2.FONT_HERSHEY_SIMPLEX, 0.7, (0,0,255))\n",
    "    points.append((x,y))\n",
    "  else:\n",
    "    points.append(None)"
   ]
  },
  {
   "cell_type": "code",
   "execution_count": null,
   "id": "2fbc7ead",
   "metadata": {},
   "outputs": [],
   "source": [
    "points"
   ]
  },
  {
   "cell_type": "code",
   "execution_count": null,
   "id": "9503f3fe",
   "metadata": {},
   "outputs": [],
   "source": [
    "plt.figure(figsize=(14,10))\n",
    "plt.imshow(cv2.cvtColor(image, cv2.COLOR_BGR2RGB))"
   ]
  }
 ],
 "metadata": {
  "kernelspec": {
   "display_name": "tf-gpu",
   "language": "python",
   "name": "python3"
  },
  "language_info": {
   "codemirror_mode": {
    "name": "ipython",
    "version": 3
   },
   "file_extension": ".py",
   "mimetype": "text/x-python",
   "name": "python",
   "nbconvert_exporter": "python",
   "pygments_lexer": "ipython3",
   "version": "3.10.18"
  }
 },
 "nbformat": 4,
 "nbformat_minor": 5
}
