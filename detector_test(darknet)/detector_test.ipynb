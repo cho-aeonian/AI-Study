{
 "cells": [
  {
   "cell_type": "code",
   "execution_count": null,
   "id": "1cfff178",
   "metadata": {},
   "outputs": [],
   "source": [
    "!git clone https://github.com/AlexeyAB/darknet"
   ]
  },
  {
   "cell_type": "code",
   "execution_count": null,
   "id": "1c4e6298",
   "metadata": {},
   "outputs": [],
   "source": [
    "ls"
   ]
  },
  {
   "cell_type": "code",
   "execution_count": null,
   "id": "43fd7702",
   "metadata": {},
   "outputs": [],
   "source": [
    "cd darknet/"
   ]
  },
  {
   "cell_type": "code",
   "execution_count": null,
   "id": "fa16c2ba",
   "metadata": {},
   "outputs": [],
   "source": [
    "ls"
   ]
  },
  {
   "cell_type": "code",
   "execution_count": null,
   "id": "a5ec52bc",
   "metadata": {},
   "outputs": [],
   "source": [
    "!make"
   ]
  },
  {
   "cell_type": "code",
   "execution_count": null,
   "id": "b0d52ba9",
   "metadata": {},
   "outputs": [],
   "source": [
    "!wget https://github.com/AlexeyAB/darknet/releases/download/darknet_yolo_v3_optimal/yolov4.weights"
   ]
  },
  {
   "cell_type": "code",
   "execution_count": null,
   "id": "089866b2",
   "metadata": {},
   "outputs": [],
   "source": [
    "!./darknet detect cfg/yolov4.cfg yolov4.weights data/person.jpg"
   ]
  },
  {
   "cell_type": "code",
   "execution_count": null,
   "id": "a029018b",
   "metadata": {},
   "outputs": [],
   "source": [
    "import cv2\n",
    "import matplotlib.pyplot as plt\n",
    "def show_detection(path):\n",
    "  image = cv2.imread(path)\n",
    "  fig = plt.gcf()\n",
    "  fig.set_size_inches(10,20)\n",
    "  plt.axis('off')\n",
    "  plt.imshow(cv2.cvtColor(image, cv2.COLOR_BGR2RGB))"
   ]
  },
  {
   "cell_type": "code",
   "execution_count": null,
   "id": "6e53e8ed",
   "metadata": {},
   "outputs": [],
   "source": [
    "show_detection('predictions.jpg')"
   ]
  }
 ],
 "metadata": {
  "kernelspec": {
   "display_name": "tf-gpu",
   "language": "python",
   "name": "python3"
  },
  "language_info": {
   "codemirror_mode": {
    "name": "ipython",
    "version": 3
   },
   "file_extension": ".py",
   "mimetype": "text/x-python",
   "name": "python",
   "nbconvert_exporter": "python",
   "pygments_lexer": "ipython3",
   "version": "3.10.18"
  }
 },
 "nbformat": 4,
 "nbformat_minor": 5
}
